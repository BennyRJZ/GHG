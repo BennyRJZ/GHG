{
 "cells": [
  {
   "cell_type": "markdown",
   "metadata": {},
   "source": [
    "# Bedu Data Science: Python\n",
    "## Análisis de los Gases Contaminantes Emitidos en México"
   ]
  },
  {
   "cell_type": "markdown",
   "metadata": {},
   "source": [
    "### Identificación del Problema. \n",
    "\n"
   ]
  },
  {
   "cell_type": "markdown",
   "metadata": {},
   "source": [
    "### Preguntas planteadas.\n",
    "\n",
    "- Máximo de $N_{2}O, CO_{2}$ y $CH_{4}$.\n",
    "- Sector más contaminante por Gas.\n",
    "- ¿En qué año se contaminó más de 1990 a 2010?\n",
    "- Máximas emisiones por gases.\n",
    "- Sectores que generan más $CO_{2}$.\n",
    "- Del Sector que más contamina, ¿Cuál es el subsector que aporta más ghg?\n",
    "- Datos de México con $CO_{2}$ ¿En qué año se emitió más y menos $CO_{2}$?\n",
    "- Promedio de emisiones de $CO_{2}$ de cada país para compararlos entre sí.\n",
    "- ¿Cómo se comportaron las emisiones de $CO_{2}$ de los demás países en el/los año(s) que México emitió más $CO_{2}$?"
   ]
  },
  {
   "cell_type": "markdown",
   "metadata": {},
   "source": [
    "### Colección de Datos\n",
    "\n",
    "Para este proyecto, utilizaremos la base de datos de emisión de Gases Contaminantes(1990-2010), que se encuentra publicada en Kaggle por la investigadora Irene Liu.\n",
    "```\n",
    "Plataforma: Kaggle\n",
    "Url: https://www.kaggle.com/ireneeliu/green-house-gases-mexico-by-sectors-19902010#\n",
    "```"
   ]
  },
  {
   "cell_type": "markdown",
   "metadata": {},
   "source": [
    "### Análisis Exploratorio de Datos"
   ]
  },
  {
   "cell_type": "code",
   "execution_count": 3,
   "metadata": {},
   "outputs": [],
   "source": [
    "# Importaciones de Librerias Necesarias para la Exploración de Datos.\n",
    "import pandas as pd\n",
    "import numpy as np"
   ]
  },
  {
   "cell_type": "code",
   "execution_count": null,
   "metadata": {},
   "outputs": [],
   "source": []
  },
  {
   "cell_type": "code",
   "execution_count": null,
   "metadata": {},
   "outputs": [],
   "source": []
  },
  {
   "cell_type": "code",
   "execution_count": null,
   "metadata": {},
   "outputs": [],
   "source": []
  },
  {
   "cell_type": "code",
   "execution_count": null,
   "metadata": {},
   "outputs": [],
   "source": []
  }
 ],
 "metadata": {
  "kernelspec": {
   "display_name": "Python 3",
   "language": "python",
   "name": "python3"
  },
  "language_info": {
   "codemirror_mode": {
    "name": "ipython",
    "version": 3
   },
   "file_extension": ".py",
   "mimetype": "text/x-python",
   "name": "python",
   "nbconvert_exporter": "python",
   "pygments_lexer": "ipython3",
   "version": "3.8.3"
  }
 },
 "nbformat": 4,
 "nbformat_minor": 4
}
