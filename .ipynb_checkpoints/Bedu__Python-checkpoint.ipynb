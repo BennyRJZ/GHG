{
 "cells": [
  {
   "cell_type": "markdown",
   "metadata": {},
   "source": [
    "# Bedu Data Science: Python\n",
    "## Análisis de los Gases Contaminantes Emitidos en México"
   ]
  },
  {
   "cell_type": "markdown",
   "metadata": {},
   "source": [
    "\n",
    "### Identificación del Problema. \n",
    "\n",
    "El clima de la tierra depende del balance radiativo de la atmósfera, el cual también depende del ingreso de radiación solar y la abundancia de trazas de gases radiantemente activos, es decir, que son capaces de absorber y mantener el calor en la atmósfera terrestre, es así como se logra la temperatura óptima del planeta, entre 14 y 15 °C, ideal para sustentar la vida en la superficie.\n",
    "\n",
    "Estos gases radiantes también se conocen como gases de efecto invernadero, desde la revolución industrial se han incrementado las concentraciones de ciertos gases, tales como el Dióxido de Carbono ($CO_{2}$), Metano ($CH_{4}$), Clorofluorocarbonos ($CFCs$), Óxido de Nitrógeno ($N_{2}O$)  y ozono troposférico ($O_{3}$), en gran parte gracias a las actividades humanas (Origen Antropogénico).\n",
    "\n",
    "La mayoría de estos gases tiene un gran tiempo de permanencia atomférico, desde décadas hasta siglos, esto significa que sus concentraciones atomsféricas responden lentamente a los cambios en las tasas de emisión.\n",
    "\n",
    "De acuerdo con la $EPA$ (Agencia de Protección Ambiental) de EE.UU. en 2018 el 81% de las emisiones de gases de efecto invernadero estaba compuesto por $CO_{2}$, el 10% era Metano, el 7% Óxido de Nitrógeno y el resto, al rededor del 2% fueron gases fluorados.\n",
    "\n",
    "El Potencial de Calentantamiento Global $(GWP)$ indica la capacidad para retener el calor en la atmósfera, los gases con mayor GWP son los Gases Fluorados, seguido por el óxido de Nitrógeno y Metano, finalmente, el $CO_{2}$.\n",
    "\n",
    "\n",
    "A pesar de existir diversos acuerdos y tratados para disminuir las emisiones de gases de efecto invernadero, en 2019 se registró el valor más alto de la concentración de $CO_{2}$ en la historia, es por ello que el control de estas emisiones es de crucial importancia para el medio ambiente y sus repercusiones en la salud.\n",
    "\n",
    "En México, con el fin de monitorear las emisiones de estos gases, se tiene un inventario de Emisiones de Gases y Compuestos de Efecto Invernadero, en él se registran las emisiones de los principales gases contribuyentes al efecto invernadero, que a su vez, se clasifica por sector económico, con esto, pueden controlarse las principales actividades emisoras de gases\n",
    "\n",
    "La OECD mantiene un registro similar sobre las emisiones de $CO_{2}$ de sus países miembros, por lo tanto, puede realizarse un análisis sobre la emisión de estos contaminantes por país y compararlo con los registros de nuestro territorio nacional.\n",
    "\n",
    "\n"
   ]
  },
  {
   "cell_type": "markdown",
   "metadata": {},
   "source": [
    "### Preguntas planteadas.\n",
    "\n",
    "- Máximo de $N_{2}O, CO_{2}$ y $CH_{4}$.\n",
    "- Sector más contaminante por Gas.\n",
    "- ¿En qué año se contaminó más de 1990 a 2010?\n",
    "- ¿Cuáles fueron las emisiones mínimas que se emitieron por cada gas?\n",
    "- Sectores que generan más $CO_{2}$.\n",
    "- Del Sector que más contamina, ¿Cuál es el subsector que aporta más ghg?\n",
    "- Datos de México con $CO_{2}$ ¿En qué año se emitió más y menos $CO_{2}$?\n",
    "- Promedio de emisiones de $CO_{2}$ de cada país para compararlos entre sí.\n",
    "- ¿Cómo se comportaron las emisiones de $CO_{2}$ de los demás países en el/los año(s) que México emitió más $CO_{2}$?"
   ]
  },
  {
   "cell_type": "markdown",
   "metadata": {},
   "source": [
    "### Colección de Datos\n",
    "\n",
    "Para este proyecto, utilizaremos la base de datos de emisión de Gases Contaminantes(1990-2010), que se encuentra publicada en Kaggle por la investigadora Irene Liu.\n",
    "```\n",
    "Plataforma: Kaggle\n",
    "Url: https://www.kaggle.com/ireneeliu/green-house-gases-mexico-by-sectors-19902010#\n",
    "```\n",
    "También haremos uso de otro recurso que mide la contaminación del aire en el mundo para poder complementar nuestra investigación sobre los GHG en México.\n",
    "```\n",
    "Plataforma: Kaggle\n",
    "Url: https://www.kaggle.com/cemalcemtastan/air-and-ghg-emissions-oecd\n",
    "```"
   ]
  },
  {
   "cell_type": "markdown",
   "metadata": {},
   "source": [
    "### Análisis Exploratorio de Datos\n",
    "        1. Observamos el Dataframe importado.\n",
    "        2. Análizamos las dimensiones de nuestros datos.\n",
    "        3. Observamos las columnas y su contenido.\n",
    "            3.1 Verificamos que los nombres de las columnas sean adecuados.\n",
    "        4. Búsqueda de Valores Incorrectos.\n",
    "       \n"
   ]
  },
  {
   "cell_type": "code",
   "execution_count": 1,
   "metadata": {},
   "outputs": [],
   "source": [
    "# Importaciones de Librerias Necesarias para la Exploración de Datos.\n",
    "import pandas as pd\n",
    "import numpy as np"
   ]
  },
  {
   "cell_type": "code",
   "execution_count": 2,
   "metadata": {},
   "outputs": [],
   "source": [
    "# Importamos el CSV. \n",
    "ghg = pd.read_csv(\"GHG-Mexico-1990-2010.csv\")\n",
    "air = pd.read_csv(\"AirAndGHG.csv\")"
   ]
  },
  {
   "cell_type": "code",
   "execution_count": 3,
   "metadata": {},
   "outputs": [
    {
     "name": "stdout",
     "output_type": "stream",
     "text": [
      "      Year  GHG            Sector                     Subsector         Amount\n",
      "0     1990  CO2            Energy                    Industrial  162232.413919\n",
      "1     1990  CO2            Energy                   Manufacture   56488.600226\n",
      "2     1990  CO2            Energy                     Transport  153384.506070\n",
      "3     1990  CO2            Energy                         Other   33024.673605\n",
      "4     1990  CO2            Energy            Fugitive emissions   35233.708273\n",
      "...    ...  ...               ...                           ...            ...\n",
      "1129  2010  N2O      Silviculture                  Silviculture     112.662545\n",
      "1130  2010  N2O  Waste management    Elimination of solid waste       0.000000\n",
      "1131  2010  N2O  Waste management  Bio-treatment of solid waste     127.056600\n",
      "1132  2010  N2O  Waste management                  Incineration     168.750642\n",
      "1133  2010  N2O  Waste management                   Waste water            NaN\n",
      "\n",
      "[1134 rows x 5 columns]\n",
      "     LOCATION    INDICATOR SUBJECT    MEASURE FREQUENCY  TIME  Value  \\\n",
      "0         AUS  AIREMISSION     CO2  TONNE_CAP         A  2002   17.7   \n",
      "1         AUS  AIREMISSION     CO2  TONNE_CAP         A  2003   17.5   \n",
      "2         AUS  AIREMISSION     CO2  TONNE_CAP         A  2004   17.9   \n",
      "3         AUS  AIREMISSION     CO2  TONNE_CAP         A  2005   17.9   \n",
      "4         AUS  AIREMISSION     CO2  TONNE_CAP         A  2006   17.8   \n",
      "...       ...          ...     ...        ...       ...   ...    ...   \n",
      "2392      ZWE  AIREMISSION     CO2  TONNE_CAP         A  2014    0.8   \n",
      "2393      ZWE  AIREMISSION     CO2  TONNE_CAP         A  2015    0.7   \n",
      "2394      ZWE  AIREMISSION     CO2  TONNE_CAP         A  2016    0.6   \n",
      "2395      ZWE  AIREMISSION     CO2  TONNE_CAP         A  2017    0.6   \n",
      "2396      ZWE  AIREMISSION     CO2  TONNE_CAP         A  2018    NaN   \n",
      "\n",
      "     Flag Codes  \n",
      "0           NaN  \n",
      "1           NaN  \n",
      "2           NaN  \n",
      "3           NaN  \n",
      "4           NaN  \n",
      "...         ...  \n",
      "2392        NaN  \n",
      "2393        NaN  \n",
      "2394        NaN  \n",
      "2395        NaN  \n",
      "2396          L  \n",
      "\n",
      "[2397 rows x 8 columns]\n"
     ]
    }
   ],
   "source": [
    "# Observamos el contenido de los Datasets.\n",
    "print(ghg)\n",
    "print(air)\n"
   ]
  },
  {
   "cell_type": "code",
   "execution_count": 4,
   "metadata": {},
   "outputs": [
    {
     "name": "stdout",
     "output_type": "stream",
     "text": [
      "(1134, 5)\n",
      "(2397, 8)\n"
     ]
    }
   ],
   "source": [
    "# Dimensiones de nuestros Datos. (Rows, Columns)\n",
    "print(ghg.shape)\n",
    "print(air.shape)"
   ]
  },
  {
   "cell_type": "code",
   "execution_count": 5,
   "metadata": {},
   "outputs": [
    {
     "name": "stdout",
     "output_type": "stream",
     "text": [
      "DF: ghg\n",
      "Index(['Year', 'GHG', 'Sector', 'Subsector', 'Amount'], dtype='object')\n",
      "Year           int64\n",
      "GHG           object\n",
      "Sector        object\n",
      "Subsector     object\n",
      "Amount       float64\n",
      "dtype: object\n",
      "DF: air\n",
      "Index(['Year', 'GHG', 'Sector', 'Subsector', 'Amount'], dtype='object')\n",
      "Year           int64\n",
      "GHG           object\n",
      "Sector        object\n",
      "Subsector     object\n",
      "Amount       float64\n",
      "dtype: object\n"
     ]
    }
   ],
   "source": [
    "# Contenido del Dataframe, Columnas:\n",
    "print(\"DF: ghg\")\n",
    "print(ghg.columns) \n",
    "print(ghg.dtypes)\n",
    "\n",
    "print(\"DF: air\")\n",
    "print(ghg.columns) \n",
    "print(ghg.dtypes)\n",
    "\n",
    "## Observamos que GHG, Sector, Subsector, deberían ser String en lugar de Object.\n",
    "## De igual manera en AIR encontramos las mismas inconcistencias.\n"
   ]
  },
  {
   "cell_type": "code",
   "execution_count": 6,
   "metadata": {},
   "outputs": [
    {
     "name": "stdout",
     "output_type": "stream",
     "text": [
      "      Year  GHG            Sector                     Subsector         Amount\n",
      "0     1990  CO2            Energy                    Industrial  162232.413919\n",
      "1     1990  CO2            Energy                   Manufacture   56488.600226\n",
      "2     1990  CO2            Energy                     Transport  153384.506070\n",
      "3     1990  CO2            Energy                         Other   33024.673605\n",
      "4     1990  CO2            Energy            Fugitive emissions   35233.708273\n",
      "...    ...  ...               ...                           ...            ...\n",
      "1129  2010  N2O      Silviculture                  Silviculture     112.662545\n",
      "1130  2010  N2O  Waste management    Elimination of solid waste       0.000000\n",
      "1131  2010  N2O  Waste management  Bio-treatment of solid waste     127.056600\n",
      "1132  2010  N2O  Waste management                  Incineration     168.750642\n",
      "1133  2010  N2O  Waste management                   Waste water            NaN\n",
      "\n",
      "[1134 rows x 5 columns]\n",
      "     LOCATION    INDICATOR SUBJECT    MEASURE FREQUENCY  TIME  Value  \\\n",
      "0         AUS  AIREMISSION     CO2  TONNE_CAP         A  2002   17.7   \n",
      "1         AUS  AIREMISSION     CO2  TONNE_CAP         A  2003   17.5   \n",
      "2         AUS  AIREMISSION     CO2  TONNE_CAP         A  2004   17.9   \n",
      "3         AUS  AIREMISSION     CO2  TONNE_CAP         A  2005   17.9   \n",
      "4         AUS  AIREMISSION     CO2  TONNE_CAP         A  2006   17.8   \n",
      "...       ...          ...     ...        ...       ...   ...    ...   \n",
      "2392      ZWE  AIREMISSION     CO2  TONNE_CAP         A  2014    0.8   \n",
      "2393      ZWE  AIREMISSION     CO2  TONNE_CAP         A  2015    0.7   \n",
      "2394      ZWE  AIREMISSION     CO2  TONNE_CAP         A  2016    0.6   \n",
      "2395      ZWE  AIREMISSION     CO2  TONNE_CAP         A  2017    0.6   \n",
      "2396      ZWE  AIREMISSION     CO2  TONNE_CAP         A  2018    NaN   \n",
      "\n",
      "     Flag Codes  \n",
      "0           NaN  \n",
      "1           NaN  \n",
      "2           NaN  \n",
      "3           NaN  \n",
      "4           NaN  \n",
      "...         ...  \n",
      "2392        NaN  \n",
      "2393        NaN  \n",
      "2394        NaN  \n",
      "2395        NaN  \n",
      "2396          L  \n",
      "\n",
      "[2397 rows x 8 columns]\n"
     ]
    }
   ],
   "source": [
    "# Busqueda de valores fuera de Rango o Incorrectos.\n",
    "print(ghg)\n",
    "print(air)\n",
    "\n",
    "#Despues de ejecutar este comando, podemos observar que nuestros datos tienen unos valores nulos y/o irrelevantes."
   ]
  },
  {
   "cell_type": "markdown",
   "metadata": {},
   "source": [
    "### Limpieza de Datos.\n",
    "Después de analizar nuestros datos, podemos observar que algunos no tienen el tipo correcto y que existen muchos valores nulos que podrían entorpecer nuestra investigación. Es por eso que haremos las modificaciones necesarias para contar con dataframes limpios."
   ]
  },
  {
   "cell_type": "code",
   "execution_count": 7,
   "metadata": {},
   "outputs": [],
   "source": [
    "### Limpieza Dataframe GHG\n",
    "ghg.dtypes ## Observamos que hay algunos datos como Objetos\n",
    "ghg.convert_dtypes().dtypes   ### Usando este método, Pandas encuentra el dtype que mejor se ajuste\n",
    "\n",
    "ghg = ghg.dropna(how='any',axis=0)  ## Borramos Nulos"
   ]
  },
  {
   "cell_type": "code",
   "execution_count": 8,
   "metadata": {},
   "outputs": [],
   "source": [
    "### Limpieza dataframe AIR\n",
    "air.dtypes\n",
    "air.convert_dtypes().dtypes\n",
    "#Quitamos las columnas no necesarias antes de eliminar los NULLS\n",
    "air = air[['LOCATION','TIME','Value']]\n",
    "airmx = air.loc[air[\"LOCATION\"]==\"MEX\"]  ## Obtenemos los valores necesarios para nuestra investigación.\n",
    "airRDM = air.loc[air[\"LOCATION\"]!=\"MEX\"] ## Obtenemos los valores necesarios para obtener el promedio"
   ]
  },
  {
   "cell_type": "markdown",
   "metadata": {},
   "source": [
    "### Transformación de Datos.\n",
    "\n",
    "En este apartado, realizaremos la manipulación de datos necesaria para poder obtener las respuestas a nuestras preguntas planteadas."
   ]
  },
  {
   "cell_type": "markdown",
   "metadata": {},
   "source": [
    "#### Pregunta 1\n",
    "- Valores Máximos de $N_{2}O, CO_{2}$ y $CH_{4}$ en México.\n"
   ]
  },
  {
   "cell_type": "code",
   "execution_count": 19,
   "metadata": {},
   "outputs": [
    {
     "data": {
      "text/html": [
       "<div>\n",
       "<style scoped>\n",
       "    .dataframe tbody tr th:only-of-type {\n",
       "        vertical-align: middle;\n",
       "    }\n",
       "\n",
       "    .dataframe tbody tr th {\n",
       "        vertical-align: top;\n",
       "    }\n",
       "\n",
       "    .dataframe thead th {\n",
       "        text-align: right;\n",
       "    }\n",
       "</style>\n",
       "<table border=\"1\" class=\"dataframe\">\n",
       "  <thead>\n",
       "    <tr style=\"text-align: right;\">\n",
       "      <th></th>\n",
       "      <th>Year</th>\n",
       "      <th>GHG</th>\n",
       "      <th>Sector</th>\n",
       "      <th>Subsector</th>\n",
       "      <th>Amount</th>\n",
       "    </tr>\n",
       "  </thead>\n",
       "  <tbody>\n",
       "    <tr>\n",
       "      <th>974</th>\n",
       "      <td>2008</td>\n",
       "      <td>CO2</td>\n",
       "      <td>Energy</td>\n",
       "      <td>Transport</td>\n",
       "      <td>166496.594781</td>\n",
       "    </tr>\n",
       "    <tr>\n",
       "      <th>47</th>\n",
       "      <td>1990</td>\n",
       "      <td>N2O</td>\n",
       "      <td>Agricuture</td>\n",
       "      <td>Soil treatment</td>\n",
       "      <td>46479.758591</td>\n",
       "    </tr>\n",
       "    <tr>\n",
       "      <th>1048</th>\n",
       "      <td>2009</td>\n",
       "      <td>CH4</td>\n",
       "      <td>Energy</td>\n",
       "      <td>Fugitive emissions</td>\n",
       "      <td>84213.488299</td>\n",
       "    </tr>\n",
       "  </tbody>\n",
       "</table>\n",
       "</div>"
      ],
      "text/plain": [
       "      Year  GHG      Sector           Subsector         Amount\n",
       "974   2008  CO2      Energy           Transport  166496.594781\n",
       "47    1990  N2O  Agricuture      Soil treatment   46479.758591\n",
       "1048  2009  CH4      Energy  Fugitive emissions   84213.488299"
      ]
     },
     "execution_count": 19,
     "metadata": {},
     "output_type": "execute_result"
    }
   ],
   "source": [
    "co2_max = ghg[ghg['GHG'] == 'CO2'].sort_values('Amount', ascending = False).head(1)\n",
    "n2o_max = ghg[ghg['GHG'] == 'N2O'].sort_values('Amount', ascending = False).head(1)\n",
    "ch4_max = ghg[ghg['GHG'] == 'CH4'].sort_values('Amount', ascending = False).head(1)\n",
    "ghg_max_frames = [co2_max, n2o_max, ch4_max]\n",
    "ghg_max_df = pd.concat(ghg_max_frames)\n",
    "ghg_max_df"
   ]
  },
  {
   "cell_type": "markdown",
   "metadata": {},
   "source": [
    "#### Pregunta 2\n",
    "- Sector más contaminante por Gas."
   ]
  },
  {
   "cell_type": "code",
   "execution_count": 37,
   "metadata": {},
   "outputs": [
    {
     "name": "stdout",
     "output_type": "stream",
     "text": [
      " \n",
      "Gas CH4:\n",
      "              Amount\n",
      "Sector              \n",
      "Energy  1.264597e+06\n",
      " \n",
      "Gas CO2:\n",
      "              Amount\n",
      "Sector              \n",
      "Energy  7.207033e+06\n",
      " \n",
      "Gas N2O:\n",
      "                   Amount\n",
      "Sector                   \n",
      "Agricuture  935470.354355\n"
     ]
    }
   ],
   "source": [
    "sector_CH4 = ghg.loc[ghg['GHG']==\"CH4\"]\n",
    "print(\" \")\n",
    "print(\"Gas CH4:\")\n",
    "sector_CH4 = sector_CH4.groupby('Sector')[['Amount']].sum()\n",
    "print(sector_CH4.sort_values('Amount', ascending = False).head(1))\n",
    "\n",
    "\n",
    "sector_CO2 = ghg.loc[ghg['GHG']==\"CO2\"]\n",
    "print(\" \")\n",
    "print(\"Gas CO2:\")\n",
    "sector_CO2 = sector_CO2.groupby('Sector')[['Amount']].sum()\n",
    "print(sector_CO2.sort_values('Amount', ascending = False).head(1))\n",
    "\n",
    "sector_N2O = ghg.loc[ghg['GHG']==\"N2O\"]\n",
    "print(\" \")\n",
    "print(\"Gas N2O:\")\n",
    "sector_N2O = sector_N2O.groupby('Sector')[['Amount']].sum()\n",
    "print(sector_N2O.sort_values('Amount', ascending = False).head(1))"
   ]
  },
  {
   "cell_type": "markdown",
   "metadata": {},
   "source": [
    "#### Pregunta 3\n",
    "- ¿En qué años se contaminó más de 1990 a 2010?\n",
    "Considerando un Top 5"
   ]
  },
  {
   "cell_type": "code",
   "execution_count": 38,
   "metadata": {},
   "outputs": [
    {
     "data": {
      "text/html": [
       "<div>\n",
       "<style scoped>\n",
       "    .dataframe tbody tr th:only-of-type {\n",
       "        vertical-align: middle;\n",
       "    }\n",
       "\n",
       "    .dataframe tbody tr th {\n",
       "        vertical-align: top;\n",
       "    }\n",
       "\n",
       "    .dataframe thead th {\n",
       "        text-align: right;\n",
       "    }\n",
       "</style>\n",
       "<table border=\"1\" class=\"dataframe\">\n",
       "  <thead>\n",
       "    <tr style=\"text-align: right;\">\n",
       "      <th></th>\n",
       "      <th>Year</th>\n",
       "      <th>GHG</th>\n",
       "      <th>Sector</th>\n",
       "      <th>Subsector</th>\n",
       "      <th>Amount</th>\n",
       "    </tr>\n",
       "  </thead>\n",
       "  <tbody>\n",
       "    <tr>\n",
       "      <th>974</th>\n",
       "      <td>2008</td>\n",
       "      <td>CO2</td>\n",
       "      <td>Energy</td>\n",
       "      <td>Transport</td>\n",
       "      <td>166496.594781</td>\n",
       "    </tr>\n",
       "    <tr>\n",
       "      <th>0</th>\n",
       "      <td>1990</td>\n",
       "      <td>CO2</td>\n",
       "      <td>Energy</td>\n",
       "      <td>Industrial</td>\n",
       "      <td>162232.413919</td>\n",
       "    </tr>\n",
       "    <tr>\n",
       "      <th>1080</th>\n",
       "      <td>2010</td>\n",
       "      <td>CO2</td>\n",
       "      <td>Energy</td>\n",
       "      <td>Industrial</td>\n",
       "      <td>162232.413919</td>\n",
       "    </tr>\n",
       "    <tr>\n",
       "      <th>1026</th>\n",
       "      <td>2009</td>\n",
       "      <td>CO2</td>\n",
       "      <td>Energy</td>\n",
       "      <td>Industrial</td>\n",
       "      <td>159906.990410</td>\n",
       "    </tr>\n",
       "    <tr>\n",
       "      <th>810</th>\n",
       "      <td>2005</td>\n",
       "      <td>CO2</td>\n",
       "      <td>Energy</td>\n",
       "      <td>Industrial</td>\n",
       "      <td>157024.599531</td>\n",
       "    </tr>\n",
       "  </tbody>\n",
       "</table>\n",
       "</div>"
      ],
      "text/plain": [
       "      Year  GHG  Sector   Subsector         Amount\n",
       "974   2008  CO2  Energy   Transport  166496.594781\n",
       "0     1990  CO2  Energy  Industrial  162232.413919\n",
       "1080  2010  CO2  Energy  Industrial  162232.413919\n",
       "1026  2009  CO2  Energy  Industrial  159906.990410\n",
       "810   2005  CO2  Energy  Industrial  157024.599531"
      ]
     },
     "execution_count": 38,
     "metadata": {},
     "output_type": "execute_result"
    }
   ],
   "source": [
    "ghg.sort_values('Amount', ascending = False).head(5)"
   ]
  },
  {
   "cell_type": "markdown",
   "metadata": {},
   "source": [
    "#### Pregunta 4\n",
    "- ¿Cuáles fueron las emisiones mínimas que se emitieron por cada gas?"
   ]
  },
  {
   "cell_type": "code",
   "execution_count": 11,
   "metadata": {},
   "outputs": [
    {
     "name": "stdout",
     "output_type": "stream",
     "text": [
      "\n",
      "Menor Emisión de CH4\n",
      "Year                         1990\n",
      "GHG                           CH4\n",
      "Sector       Industrial processes\n",
      "Subsector                 Mineral\n",
      "Amount                          0\n",
      "Name: 23, dtype: object\n",
      "\n",
      "Menor Emisión de CO2\n",
      "Year                 1990\n",
      "GHG                   CO2\n",
      "Sector         Agricuture\n",
      "Subsector    Fermentation\n",
      "Amount                  0\n",
      "Name: 8, dtype: object\n",
      "\n",
      "Menor Emisión de N2O\n",
      "Year                       1990\n",
      "GHG                         N2O\n",
      "Sector                   Energy\n",
      "Subsector    Fugitive emissions\n",
      "Amount                        0\n",
      "Name: 40, dtype: object\n"
     ]
    }
   ],
   "source": [
    "min_CH4 = ghg.loc[ghg['GHG']==\"CH4\"]\n",
    "print(\"\")\n",
    "print(\"Menor Emisión de CH4\")\n",
    "print(min_CH4.loc[min_CH4['Amount'].idxmin()])\n",
    "\n",
    "min_CO2 = ghg.loc[ghg['GHG']==\"CO2\"]\n",
    "print(\"\")\n",
    "print(\"Menor Emisión de CO2\")\n",
    "print(min_CO2.loc[min_CO2['Amount'].idxmin()])\n",
    "\n",
    "min_N2O = ghg.loc[ghg['GHG']==\"N2O\"]\n",
    "print(\"\")\n",
    "print(\"Menor Emisión de N2O\")\n",
    "print(min_N2O.loc[min_N2O['Amount'].idxmin()])"
   ]
  },
  {
   "cell_type": "markdown",
   "metadata": {},
   "source": [
    "#### Pregunta 5\n",
    "- Sectores que generan más $CO_{2}$."
   ]
  },
  {
   "cell_type": "code",
   "execution_count": 12,
   "metadata": {},
   "outputs": [],
   "source": [
    "ghg_sector_co2 = ghg[ghg['GHG'] == 'CO2'] "
   ]
  },
  {
   "cell_type": "code",
   "execution_count": 13,
   "metadata": {},
   "outputs": [
    {
     "data": {
      "text/html": [
       "<div>\n",
       "<style scoped>\n",
       "    .dataframe tbody tr th:only-of-type {\n",
       "        vertical-align: middle;\n",
       "    }\n",
       "\n",
       "    .dataframe tbody tr th {\n",
       "        vertical-align: top;\n",
       "    }\n",
       "\n",
       "    .dataframe thead th {\n",
       "        text-align: right;\n",
       "    }\n",
       "</style>\n",
       "<table border=\"1\" class=\"dataframe\">\n",
       "  <thead>\n",
       "    <tr style=\"text-align: right;\">\n",
       "      <th></th>\n",
       "      <th>Amount</th>\n",
       "    </tr>\n",
       "    <tr>\n",
       "      <th>Sector</th>\n",
       "      <th></th>\n",
       "    </tr>\n",
       "  </thead>\n",
       "  <tbody>\n",
       "    <tr>\n",
       "      <th>Energy</th>\n",
       "      <td>7.207033e+06</td>\n",
       "    </tr>\n",
       "    <tr>\n",
       "      <th>Silviculture</th>\n",
       "      <td>1.495735e+06</td>\n",
       "    </tr>\n",
       "    <tr>\n",
       "      <th>Industrial processes</th>\n",
       "      <td>7.814388e+05</td>\n",
       "    </tr>\n",
       "    <tr>\n",
       "      <th>Waste management</th>\n",
       "      <td>6.173112e+03</td>\n",
       "    </tr>\n",
       "    <tr>\n",
       "      <th>Agricuture</th>\n",
       "      <td>0.000000e+00</td>\n",
       "    </tr>\n",
       "  </tbody>\n",
       "</table>\n",
       "</div>"
      ],
      "text/plain": [
       "                            Amount\n",
       "Sector                            \n",
       "Energy                7.207033e+06\n",
       "Silviculture          1.495735e+06\n",
       "Industrial processes  7.814388e+05\n",
       "Waste management      6.173112e+03\n",
       "Agricuture            0.000000e+00"
      ]
     },
     "execution_count": 13,
     "metadata": {},
     "output_type": "execute_result"
    }
   ],
   "source": [
    "ghg_per_sector = ghg_sector_co2.groupby('Sector')[['Amount']].sum()\n",
    "ghg_per_sector.sort_values('Amount', ascending = False)"
   ]
  },
  {
   "cell_type": "markdown",
   "metadata": {},
   "source": [
    "#### Pregunta 6\n",
    "- Del Sector que más contamina, ¿Cuál es el subsector que aporta más ghg?"
   ]
  },
  {
   "cell_type": "code",
   "execution_count": 14,
   "metadata": {},
   "outputs": [
    {
     "data": {
      "text/html": [
       "<div>\n",
       "<style scoped>\n",
       "    .dataframe tbody tr th:only-of-type {\n",
       "        vertical-align: middle;\n",
       "    }\n",
       "\n",
       "    .dataframe tbody tr th {\n",
       "        vertical-align: top;\n",
       "    }\n",
       "\n",
       "    .dataframe thead th {\n",
       "        text-align: right;\n",
       "    }\n",
       "</style>\n",
       "<table border=\"1\" class=\"dataframe\">\n",
       "  <thead>\n",
       "    <tr style=\"text-align: right;\">\n",
       "      <th></th>\n",
       "      <th>Amount</th>\n",
       "    </tr>\n",
       "    <tr>\n",
       "      <th>Subsector</th>\n",
       "      <th></th>\n",
       "    </tr>\n",
       "  </thead>\n",
       "  <tbody>\n",
       "    <tr>\n",
       "      <th>Industrial</th>\n",
       "      <td>2.924027e+06</td>\n",
       "    </tr>\n",
       "    <tr>\n",
       "      <th>Transport</th>\n",
       "      <td>2.407441e+06</td>\n",
       "    </tr>\n",
       "    <tr>\n",
       "      <th>Silviculture</th>\n",
       "      <td>1.495735e+06</td>\n",
       "    </tr>\n",
       "    <tr>\n",
       "      <th>Manufacture</th>\n",
       "      <td>1.180120e+06</td>\n",
       "    </tr>\n",
       "    <tr>\n",
       "      <th>Other</th>\n",
       "      <td>6.602111e+05</td>\n",
       "    </tr>\n",
       "    <tr>\n",
       "      <th>Mineral</th>\n",
       "      <td>6.117732e+05</td>\n",
       "    </tr>\n",
       "    <tr>\n",
       "      <th>Metallurgy</th>\n",
       "      <td>1.262375e+05</td>\n",
       "    </tr>\n",
       "    <tr>\n",
       "      <th>Chemical</th>\n",
       "      <td>4.342800e+04</td>\n",
       "    </tr>\n",
       "    <tr>\n",
       "      <th>Fugitive emissions</th>\n",
       "      <td>3.523371e+04</td>\n",
       "    </tr>\n",
       "    <tr>\n",
       "      <th>Incineration</th>\n",
       "      <td>6.173112e+03</td>\n",
       "    </tr>\n",
       "    <tr>\n",
       "      <th>Bio-treatment of solid waste</th>\n",
       "      <td>0.000000e+00</td>\n",
       "    </tr>\n",
       "    <tr>\n",
       "      <th>Rice farming</th>\n",
       "      <td>0.000000e+00</td>\n",
       "    </tr>\n",
       "    <tr>\n",
       "      <th>Soil treatment</th>\n",
       "      <td>0.000000e+00</td>\n",
       "    </tr>\n",
       "    <tr>\n",
       "      <th>Manure</th>\n",
       "      <td>0.000000e+00</td>\n",
       "    </tr>\n",
       "    <tr>\n",
       "      <th>Fires</th>\n",
       "      <td>0.000000e+00</td>\n",
       "    </tr>\n",
       "    <tr>\n",
       "      <th>Fermentation</th>\n",
       "      <td>0.000000e+00</td>\n",
       "    </tr>\n",
       "    <tr>\n",
       "      <th>Elimination of solid waste</th>\n",
       "      <td>0.000000e+00</td>\n",
       "    </tr>\n",
       "    <tr>\n",
       "      <th>Waste water</th>\n",
       "      <td>0.000000e+00</td>\n",
       "    </tr>\n",
       "  </tbody>\n",
       "</table>\n",
       "</div>"
      ],
      "text/plain": [
       "                                    Amount\n",
       "Subsector                                 \n",
       "Industrial                    2.924027e+06\n",
       "Transport                     2.407441e+06\n",
       "Silviculture                  1.495735e+06\n",
       "Manufacture                   1.180120e+06\n",
       "Other                         6.602111e+05\n",
       "Mineral                       6.117732e+05\n",
       "Metallurgy                    1.262375e+05\n",
       "Chemical                      4.342800e+04\n",
       "Fugitive emissions            3.523371e+04\n",
       "Incineration                  6.173112e+03\n",
       "Bio-treatment of solid waste  0.000000e+00\n",
       "Rice farming                  0.000000e+00\n",
       "Soil treatment                0.000000e+00\n",
       "Manure                        0.000000e+00\n",
       "Fires                         0.000000e+00\n",
       "Fermentation                  0.000000e+00\n",
       "Elimination of solid waste    0.000000e+00\n",
       "Waste water                   0.000000e+00"
      ]
     },
     "execution_count": 14,
     "metadata": {},
     "output_type": "execute_result"
    }
   ],
   "source": [
    "ghg_per_subsector = ghg_sector_co2.groupby('Subsector')[['Amount']].sum()\n",
    "ghg_per_subsector.sort_values('Amount', ascending = False)"
   ]
  },
  {
   "cell_type": "markdown",
   "metadata": {},
   "source": [
    "#### Pregunta 7\n",
    "- Datos de México con $CO_{2}$ ¿En qué año se emitió más y menos $CO_{2}$?"
   ]
  },
  {
   "cell_type": "code",
   "execution_count": 102,
   "metadata": {},
   "outputs": [
    {
     "data": {
      "text/html": [
       "<div>\n",
       "<style scoped>\n",
       "    .dataframe tbody tr th:only-of-type {\n",
       "        vertical-align: middle;\n",
       "    }\n",
       "\n",
       "    .dataframe tbody tr th {\n",
       "        vertical-align: top;\n",
       "    }\n",
       "\n",
       "    .dataframe thead th {\n",
       "        text-align: right;\n",
       "    }\n",
       "</style>\n",
       "<table border=\"1\" class=\"dataframe\">\n",
       "  <thead>\n",
       "    <tr style=\"text-align: right;\">\n",
       "      <th></th>\n",
       "      <th>LOCATION</th>\n",
       "      <th>TIME</th>\n",
       "      <th>Value</th>\n",
       "    </tr>\n",
       "  </thead>\n",
       "  <tbody>\n",
       "    <tr>\n",
       "      <th>302</th>\n",
       "      <td>MEX</td>\n",
       "      <td>2015</td>\n",
       "      <td>3.7</td>\n",
       "    </tr>\n",
       "    <tr>\n",
       "      <th>304</th>\n",
       "      <td>MEX</td>\n",
       "      <td>2017</td>\n",
       "      <td>3.6</td>\n",
       "    </tr>\n",
       "    <tr>\n",
       "      <th>289</th>\n",
       "      <td>MEX</td>\n",
       "      <td>2002</td>\n",
       "      <td>3.6</td>\n",
       "    </tr>\n",
       "    <tr>\n",
       "      <th>301</th>\n",
       "      <td>MEX</td>\n",
       "      <td>2014</td>\n",
       "      <td>3.6</td>\n",
       "    </tr>\n",
       "    <tr>\n",
       "      <th>305</th>\n",
       "      <td>MEX</td>\n",
       "      <td>2018</td>\n",
       "      <td>3.5</td>\n",
       "    </tr>\n",
       "  </tbody>\n",
       "</table>\n",
       "</div>"
      ],
      "text/plain": [
       "    LOCATION  TIME  Value\n",
       "302      MEX  2015    3.7\n",
       "304      MEX  2017    3.6\n",
       "289      MEX  2002    3.6\n",
       "301      MEX  2014    3.6\n",
       "305      MEX  2018    3.5"
      ]
     },
     "execution_count": 102,
     "metadata": {},
     "output_type": "execute_result"
    }
   ],
   "source": [
    "# Valor mínimo en emisiones de gases de efecto invernadero en México según la OECD\n",
    "airmx.sort_values('Value', ascending = False).tail(5)"
   ]
  },
  {
   "cell_type": "code",
   "execution_count": 103,
   "metadata": {},
   "outputs": [
    {
     "data": {
      "text/html": [
       "<div>\n",
       "<style scoped>\n",
       "    .dataframe tbody tr th:only-of-type {\n",
       "        vertical-align: middle;\n",
       "    }\n",
       "\n",
       "    .dataframe tbody tr th {\n",
       "        vertical-align: top;\n",
       "    }\n",
       "\n",
       "    .dataframe thead th {\n",
       "        text-align: right;\n",
       "    }\n",
       "</style>\n",
       "<table border=\"1\" class=\"dataframe\">\n",
       "  <thead>\n",
       "    <tr style=\"text-align: right;\">\n",
       "      <th></th>\n",
       "      <th>LOCATION</th>\n",
       "      <th>TIME</th>\n",
       "      <th>Value</th>\n",
       "    </tr>\n",
       "  </thead>\n",
       "  <tbody>\n",
       "    <tr>\n",
       "      <th>294</th>\n",
       "      <td>MEX</td>\n",
       "      <td>2007</td>\n",
       "      <td>4.0</td>\n",
       "    </tr>\n",
       "    <tr>\n",
       "      <th>298</th>\n",
       "      <td>MEX</td>\n",
       "      <td>2011</td>\n",
       "      <td>4.0</td>\n",
       "    </tr>\n",
       "    <tr>\n",
       "      <th>297</th>\n",
       "      <td>MEX</td>\n",
       "      <td>2010</td>\n",
       "      <td>3.9</td>\n",
       "    </tr>\n",
       "    <tr>\n",
       "      <th>292</th>\n",
       "      <td>MEX</td>\n",
       "      <td>2005</td>\n",
       "      <td>3.9</td>\n",
       "    </tr>\n",
       "    <tr>\n",
       "      <th>293</th>\n",
       "      <td>MEX</td>\n",
       "      <td>2006</td>\n",
       "      <td>3.9</td>\n",
       "    </tr>\n",
       "  </tbody>\n",
       "</table>\n",
       "</div>"
      ],
      "text/plain": [
       "    LOCATION  TIME  Value\n",
       "294      MEX  2007    4.0\n",
       "298      MEX  2011    4.0\n",
       "297      MEX  2010    3.9\n",
       "292      MEX  2005    3.9\n",
       "293      MEX  2006    3.9"
      ]
     },
     "execution_count": 103,
     "metadata": {},
     "output_type": "execute_result"
    }
   ],
   "source": [
    "# Valor máximo de emisiones de ghg en México según la OECD\n",
    "airmx.sort_values('Value', ascending = False).head(5)"
   ]
  },
  {
   "cell_type": "markdown",
   "metadata": {},
   "source": [
    "#### Pregunta 8\n",
    "- Promedio de emisiones de $CO_{2}$ de cada país para compararlos entre sí.\n"
   ]
  },
  {
   "cell_type": "code",
   "execution_count": 15,
   "metadata": {},
   "outputs": [
    {
     "data": {
      "text/html": [
       "<div>\n",
       "<style scoped>\n",
       "    .dataframe tbody tr th:only-of-type {\n",
       "        vertical-align: middle;\n",
       "    }\n",
       "\n",
       "    .dataframe tbody tr th {\n",
       "        vertical-align: top;\n",
       "    }\n",
       "\n",
       "    .dataframe thead th {\n",
       "        text-align: right;\n",
       "    }\n",
       "</style>\n",
       "<table border=\"1\" class=\"dataframe\">\n",
       "  <thead>\n",
       "    <tr style=\"text-align: right;\">\n",
       "      <th></th>\n",
       "      <th>Value</th>\n",
       "    </tr>\n",
       "    <tr>\n",
       "      <th>LOCATION</th>\n",
       "      <th></th>\n",
       "    </tr>\n",
       "  </thead>\n",
       "  <tbody>\n",
       "    <tr>\n",
       "      <th>AGO</th>\n",
       "      <td>0.56250</td>\n",
       "    </tr>\n",
       "    <tr>\n",
       "      <th>ALB</th>\n",
       "      <td>1.31250</td>\n",
       "    </tr>\n",
       "    <tr>\n",
       "      <th>ARE</th>\n",
       "      <td>21.45625</td>\n",
       "    </tr>\n",
       "    <tr>\n",
       "      <th>ARG</th>\n",
       "      <td>4.07500</td>\n",
       "    </tr>\n",
       "    <tr>\n",
       "      <th>ARM</th>\n",
       "      <td>1.53750</td>\n",
       "    </tr>\n",
       "    <tr>\n",
       "      <th>...</th>\n",
       "      <td>...</td>\n",
       "    </tr>\n",
       "    <tr>\n",
       "      <th>WLD</th>\n",
       "      <td>4.28750</td>\n",
       "    </tr>\n",
       "    <tr>\n",
       "      <th>YEM</th>\n",
       "      <td>0.78750</td>\n",
       "    </tr>\n",
       "    <tr>\n",
       "      <th>ZAF</th>\n",
       "      <td>7.72500</td>\n",
       "    </tr>\n",
       "    <tr>\n",
       "      <th>ZMB</th>\n",
       "      <td>0.18125</td>\n",
       "    </tr>\n",
       "    <tr>\n",
       "      <th>ZWE</th>\n",
       "      <td>0.71875</td>\n",
       "    </tr>\n",
       "  </tbody>\n",
       "</table>\n",
       "<p>140 rows × 1 columns</p>\n",
       "</div>"
      ],
      "text/plain": [
       "             Value\n",
       "LOCATION          \n",
       "AGO        0.56250\n",
       "ALB        1.31250\n",
       "ARE       21.45625\n",
       "ARG        4.07500\n",
       "ARM        1.53750\n",
       "...            ...\n",
       "WLD        4.28750\n",
       "YEM        0.78750\n",
       "ZAF        7.72500\n",
       "ZMB        0.18125\n",
       "ZWE        0.71875\n",
       "\n",
       "[140 rows x 1 columns]"
      ]
     },
     "execution_count": 15,
     "metadata": {},
     "output_type": "execute_result"
    }
   ],
   "source": [
    "airRDM = airRDM[[\"LOCATION\",\"Value\"]]\n",
    "airMEAN = airRDM.groupby('LOCATION').mean()\n",
    "airMEAN\n"
   ]
  },
  {
   "cell_type": "code",
   "execution_count": 16,
   "metadata": {},
   "outputs": [
    {
     "data": {
      "text/html": [
       "<div>\n",
       "<style scoped>\n",
       "    .dataframe tbody tr th:only-of-type {\n",
       "        vertical-align: middle;\n",
       "    }\n",
       "\n",
       "    .dataframe tbody tr th {\n",
       "        vertical-align: top;\n",
       "    }\n",
       "\n",
       "    .dataframe thead th {\n",
       "        text-align: right;\n",
       "    }\n",
       "</style>\n",
       "<table border=\"1\" class=\"dataframe\">\n",
       "  <thead>\n",
       "    <tr style=\"text-align: right;\">\n",
       "      <th></th>\n",
       "      <th>Value</th>\n",
       "    </tr>\n",
       "    <tr>\n",
       "      <th>LOCATION</th>\n",
       "      <th></th>\n",
       "    </tr>\n",
       "  </thead>\n",
       "  <tbody>\n",
       "    <tr>\n",
       "      <th>QAT</th>\n",
       "      <td>34.52500</td>\n",
       "    </tr>\n",
       "    <tr>\n",
       "      <th>KWT</th>\n",
       "      <td>24.96875</td>\n",
       "    </tr>\n",
       "    <tr>\n",
       "      <th>BHR</th>\n",
       "      <td>21.63750</td>\n",
       "    </tr>\n",
       "    <tr>\n",
       "      <th>ARE</th>\n",
       "      <td>21.45625</td>\n",
       "    </tr>\n",
       "    <tr>\n",
       "      <th>LUX</th>\n",
       "      <td>19.70000</td>\n",
       "    </tr>\n",
       "  </tbody>\n",
       "</table>\n",
       "</div>"
      ],
      "text/plain": [
       "             Value\n",
       "LOCATION          \n",
       "QAT       34.52500\n",
       "KWT       24.96875\n",
       "BHR       21.63750\n",
       "ARE       21.45625\n",
       "LUX       19.70000"
      ]
     },
     "execution_count": 16,
     "metadata": {},
     "output_type": "execute_result"
    }
   ],
   "source": [
    "airMEAN.sort_values('Value', ascending = False).head(5) # <- Países que Más han contaminado en Promedio\n"
   ]
  },
  {
   "cell_type": "code",
   "execution_count": 17,
   "metadata": {},
   "outputs": [
    {
     "data": {
      "text/html": [
       "<div>\n",
       "<style scoped>\n",
       "    .dataframe tbody tr th:only-of-type {\n",
       "        vertical-align: middle;\n",
       "    }\n",
       "\n",
       "    .dataframe tbody tr th {\n",
       "        vertical-align: top;\n",
       "    }\n",
       "\n",
       "    .dataframe thead th {\n",
       "        text-align: right;\n",
       "    }\n",
       "</style>\n",
       "<table border=\"1\" class=\"dataframe\">\n",
       "  <thead>\n",
       "    <tr style=\"text-align: right;\">\n",
       "      <th></th>\n",
       "      <th>Value</th>\n",
       "    </tr>\n",
       "    <tr>\n",
       "      <th>LOCATION</th>\n",
       "      <th></th>\n",
       "    </tr>\n",
       "  </thead>\n",
       "  <tbody>\n",
       "    <tr>\n",
       "      <th>COD</th>\n",
       "      <td>0.00625</td>\n",
       "    </tr>\n",
       "    <tr>\n",
       "      <th>ETH</th>\n",
       "      <td>0.10000</td>\n",
       "    </tr>\n",
       "    <tr>\n",
       "      <th>NER</th>\n",
       "      <td>0.10000</td>\n",
       "    </tr>\n",
       "    <tr>\n",
       "      <th>ERI</th>\n",
       "      <td>0.11875</td>\n",
       "    </tr>\n",
       "    <tr>\n",
       "      <th>MOZ</th>\n",
       "      <td>0.13750</td>\n",
       "    </tr>\n",
       "  </tbody>\n",
       "</table>\n",
       "</div>"
      ],
      "text/plain": [
       "            Value\n",
       "LOCATION         \n",
       "COD       0.00625\n",
       "ETH       0.10000\n",
       "NER       0.10000\n",
       "ERI       0.11875\n",
       "MOZ       0.13750"
      ]
     },
     "execution_count": 17,
     "metadata": {},
     "output_type": "execute_result"
    }
   ],
   "source": [
    "airMEAN.sort_values('Value', ascending = True).head(5) # <- Países que Menos han Contaminado"
   ]
  },
  {
   "cell_type": "markdown",
   "metadata": {},
   "source": [
    "#### Pregunta 9\n",
    "- ¿Cómo se comportaron las emisiones de $CO_{2}$ de los demás países en el/los año(s) que México emitió más $CO_{2}$?"
   ]
  },
  {
   "cell_type": "code",
   "execution_count": 104,
   "metadata": {},
   "outputs": [],
   "source": [
    "# Creamos dos dataframes nuevos para los años en los que México emitió más ghg y tomando sólo los 10 países que emitieron más ghg\n",
    "air_2007 = air[air['TIME'] == 2007].sort_values('Value', ascending = False).head(10)\n",
    "air_2011 = air[air['TIME'] == 2011].sort_values('Value', ascending = False).head(10)"
   ]
  },
  {
   "cell_type": "code",
   "execution_count": 105,
   "metadata": {},
   "outputs": [],
   "source": [
    "# Graficamos utilizando matplotlib y seaborn\n",
    "import matplotlib.pyplot as plt\n",
    "import seaborn as sns"
   ]
  },
  {
   "cell_type": "code",
   "execution_count": 106,
   "metadata": {},
   "outputs": [
    {
     "data": {
      "text/plain": [
       "<matplotlib.axes._subplots.AxesSubplot at 0x269a76b6e80>"
      ]
     },
     "execution_count": 106,
     "metadata": {},
     "output_type": "execute_result"
    },
    {
     "data": {
      "image/png": "[encoded data removed]",
      "text/plain": [
       "<Figure size 720x360 with 1 Axes>"
      ]
     },
     "metadata": {
      "needs_background": "light"
     },
     "output_type": "display_data"
    }
   ],
   "source": [
    "# Gráfica del 2007\n",
    "plt.figure(figsize=(10,5))\n",
    "plt.title('Emisiones de gases de efecto invernadero en 2007', size=17)\n",
    "sns.barplot(x=\"LOCATION\",\n",
    "           y=\"Value\", \n",
    "           ci=False, \n",
    "           data=air_2007 ,)"
   ]
  },
  {
   "cell_type": "code",
   "execution_count": 107,
   "metadata": {},
   "outputs": [
    {
     "data": {
      "text/plain": [
       "<matplotlib.axes._subplots.AxesSubplot at 0x269a7b48dc0>"
      ]
     },
     "execution_count": 107,
     "metadata": {},
     "output_type": "execute_result"
    },
    {
     "data": {
      "image/png": "[encoded data removed]",
      "text/plain": [
       "<Figure size 720x360 with 1 Axes>"
      ]
     },
     "metadata": {
      "needs_background": "light"
     },
     "output_type": "display_data"
    }
   ],
   "source": [
    "#Gráfica del 2011\n",
    "plt.figure(figsize=(10,5))\n",
    "plt.title('Emisiones de gases de efecto invernadero en 2011', size=17)\n",
    "sns.barplot(x=\"LOCATION\",\n",
    "           y=\"Value\", \n",
    "           ci=False, \n",
    "           data=air_2011 ,)"
   ]
  },
  {
   "cell_type": "code",
   "execution_count": null,
   "metadata": {},
   "outputs": [],
   "source": []
  }
 ],
 "metadata": {
  "kernelspec": {
   "display_name": "Python 3",
   "language": "python",
   "name": "python3"
  },
  "language_info": {
   "codemirror_mode": {
    "name": "ipython",
    "version": 3
   },
   "file_extension": ".py",
   "mimetype": "text/x-python",
   "name": "python",
   "nbconvert_exporter": "python",
   "pygments_lexer": "ipython3",
   "version": "3.8.3"
  }
 },
 "nbformat": 4,
 "nbformat_minor": 4
}
