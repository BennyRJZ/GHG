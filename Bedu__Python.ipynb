{
 "cells": [
  {
   "cell_type": "markdown",
   "metadata": {},
   "source": [
    "# Bedu Data Science: Python\n",
    "## Análisis de los Gases Contaminantes Emitidos en México"
   ]
  },
  {
   "cell_type": "markdown",
   "metadata": {},
   "source": [
    "### Identificación del Problema. \n",
    "\n"
   ]
  },
  {
   "cell_type": "markdown",
   "metadata": {},
   "source": [
    "### Preguntas planteadas.\n",
    "\n",
    "- Máximo de $N_{2}O, CO_{2}$ y $CH_{4}$.\n",
    "- Sector más contaminante por Gas.\n",
    "- ¿En qué año se contaminó más de 1990 a 2010?\n",
    "- Máximas emisiones por gases.\n",
    "- Sectores que generan más $CO_{2}$.\n",
    "- Del Sector que más contamina, ¿Cuál es el subsector que aporta más ghg?\n",
    "- Datos de México con $CO_{2}$ ¿En qué año se emitió más y menos $CO_{2}$?\n",
    "- Promedio de emisiones de $CO_{2}$ de cada país para compararlos entre sí.\n",
    "- ¿Cómo se comportaron las emisiones de $CO_{2}$ de los demás países en el/los año(s) que México emitió más $CO_{2}$?"
   ]
  },
  {
   "cell_type": "markdown",
   "metadata": {},
   "source": [
    "### Colección de Datos\n",
    "\n",
    "Para este proyecto, utilizaremos la base de datos de emisión de Gases Contaminantes(1990-2010), que se encuentra publicada en Kaggle por la investigadora Irene Liu.\n",
    "```\n",
    "Plataforma: Kaggle\n",
    "Url: https://www.kaggle.com/ireneeliu/green-house-gases-mexico-by-sectors-19902010#\n",
    "```\n",
    "También haremos uso de otro recurso que mide la contaminación del aire en el mundo para poder complementar nuestra investigación sobre los GHG en México.\n",
    "```\n",
    "Plataforma: Kaggle\n",
    "Url: https://www.kaggle.com/cemalcemtastan/air-and-ghg-emissions-oecd\n",
    "```"
   ]
  },
  {
   "cell_type": "markdown",
   "metadata": {},
   "source": [
    "### Análisis Exploratorio de Datos\n",
    "        1. Observamos el Dataframe importado.\n",
    "        2. Análizamos las dimensiones de nuestros datos.\n",
    "        3. Observamos las columnas y su contenido.\n",
    "            3.1 Verificamos que los nombres de las columnas sean adecuados.\n",
    "        4. Búsqueda de Valores Incorrectos.\n",
    "       \n"
   ]
  },
  {
   "cell_type": "code",
   "execution_count": 2,
   "metadata": {},
   "outputs": [],
   "source": [
    "# Importaciones de Librerias Necesarias para la Exploración de Datos.\n",
    "import pandas as pd\n",
    "import numpy as np"
   ]
  },
  {
   "cell_type": "code",
   "execution_count": 3,
   "metadata": {},
   "outputs": [],
   "source": [
    "# Importamos el CSV. \n",
    "ghg = pd.read_csv(\"GHG-Mexico-1990-2010.csv\")\n",
    "air = pd.read_csv(\"AirAndGHG.csv\")"
   ]
  },
  {
   "cell_type": "code",
   "execution_count": 4,
   "metadata": {},
   "outputs": [
    {
     "name": "stdout",
     "output_type": "stream",
     "text": [
      "      Year  GHG            Sector                     Subsector         Amount\n",
      "0     1990  CO2            Energy                    Industrial  162232.413919\n",
      "1     1990  CO2            Energy                   Manufacture   56488.600226\n",
      "2     1990  CO2            Energy                     Transport  153384.506070\n",
      "3     1990  CO2            Energy                         Other   33024.673605\n",
      "4     1990  CO2            Energy            Fugitive emissions   35233.708273\n",
      "...    ...  ...               ...                           ...            ...\n",
      "1129  2010  N2O      Silviculture                  Silviculture     112.662545\n",
      "1130  2010  N2O  Waste management    Elimination of solid waste       0.000000\n",
      "1131  2010  N2O  Waste management  Bio-treatment of solid waste     127.056600\n",
      "1132  2010  N2O  Waste management                  Incineration     168.750642\n",
      "1133  2010  N2O  Waste management                   Waste water            NaN\n",
      "\n",
      "[1134 rows x 5 columns]\n",
      "     LOCATION    INDICATOR SUBJECT    MEASURE FREQUENCY  TIME  Value  \\\n",
      "0         AUS  AIREMISSION     CO2  TONNE_CAP         A  2002   17.7   \n",
      "1         AUS  AIREMISSION     CO2  TONNE_CAP         A  2003   17.5   \n",
      "2         AUS  AIREMISSION     CO2  TONNE_CAP         A  2004   17.9   \n",
      "3         AUS  AIREMISSION     CO2  TONNE_CAP         A  2005   17.9   \n",
      "4         AUS  AIREMISSION     CO2  TONNE_CAP         A  2006   17.8   \n",
      "...       ...          ...     ...        ...       ...   ...    ...   \n",
      "2392      ZWE  AIREMISSION     CO2  TONNE_CAP         A  2014    0.8   \n",
      "2393      ZWE  AIREMISSION     CO2  TONNE_CAP         A  2015    0.7   \n",
      "2394      ZWE  AIREMISSION     CO2  TONNE_CAP         A  2016    0.6   \n",
      "2395      ZWE  AIREMISSION     CO2  TONNE_CAP         A  2017    0.6   \n",
      "2396      ZWE  AIREMISSION     CO2  TONNE_CAP         A  2018    NaN   \n",
      "\n",
      "     Flag Codes  \n",
      "0           NaN  \n",
      "1           NaN  \n",
      "2           NaN  \n",
      "3           NaN  \n",
      "4           NaN  \n",
      "...         ...  \n",
      "2392        NaN  \n",
      "2393        NaN  \n",
      "2394        NaN  \n",
      "2395        NaN  \n",
      "2396          L  \n",
      "\n",
      "[2397 rows x 8 columns]\n"
     ]
    }
   ],
   "source": [
    "# Observamos el contenido de los Datasets.\n",
    "print(ghg)\n",
    "print(air)\n"
   ]
  },
  {
   "cell_type": "code",
   "execution_count": 5,
   "metadata": {},
   "outputs": [
    {
     "name": "stdout",
     "output_type": "stream",
     "text": [
      "(1134, 5)\n",
      "(2397, 8)\n"
     ]
    }
   ],
   "source": [
    "# Dimensiones de nuestros Datos. (Rows, Columns)\n",
    "print(ghg.shape)\n",
    "print(air.shape)"
   ]
  },
  {
   "cell_type": "code",
   "execution_count": 6,
   "metadata": {},
   "outputs": [
    {
     "name": "stdout",
     "output_type": "stream",
     "text": [
      "DF: ghg\n",
      "Index(['Year', 'GHG', 'Sector', 'Subsector', 'Amount'], dtype='object')\n",
      "Year           int64\n",
      "GHG           object\n",
      "Sector        object\n",
      "Subsector     object\n",
      "Amount       float64\n",
      "dtype: object\n",
      "DF: air\n",
      "Index(['Year', 'GHG', 'Sector', 'Subsector', 'Amount'], dtype='object')\n",
      "Year           int64\n",
      "GHG           object\n",
      "Sector        object\n",
      "Subsector     object\n",
      "Amount       float64\n",
      "dtype: object\n"
     ]
    }
   ],
   "source": [
    "# Contenido del Dataframe, Columnas:\n",
    "print(\"DF: ghg\")\n",
    "print(ghg.columns) \n",
    "print(ghg.dtypes)\n",
    "\n",
    "print(\"DF: air\")\n",
    "print(ghg.columns) \n",
    "print(ghg.dtypes)\n",
    "\n",
    "## Observamos que GHG, Sector, Subsector, deberían ser String en lugar de Object.\n",
    "## De igual manera en AIR encontramos las mismas inconcistencias.\n"
   ]
  },
  {
   "cell_type": "code",
   "execution_count": 7,
   "metadata": {},
   "outputs": [
    {
     "name": "stdout",
     "output_type": "stream",
     "text": [
      "      Year  GHG            Sector                     Subsector         Amount\n",
      "0     1990  CO2            Energy                    Industrial  162232.413919\n",
      "1     1990  CO2            Energy                   Manufacture   56488.600226\n",
      "2     1990  CO2            Energy                     Transport  153384.506070\n",
      "3     1990  CO2            Energy                         Other   33024.673605\n",
      "4     1990  CO2            Energy            Fugitive emissions   35233.708273\n",
      "...    ...  ...               ...                           ...            ...\n",
      "1129  2010  N2O      Silviculture                  Silviculture     112.662545\n",
      "1130  2010  N2O  Waste management    Elimination of solid waste       0.000000\n",
      "1131  2010  N2O  Waste management  Bio-treatment of solid waste     127.056600\n",
      "1132  2010  N2O  Waste management                  Incineration     168.750642\n",
      "1133  2010  N2O  Waste management                   Waste water            NaN\n",
      "\n",
      "[1134 rows x 5 columns]\n",
      "     LOCATION    INDICATOR SUBJECT    MEASURE FREQUENCY  TIME  Value  \\\n",
      "0         AUS  AIREMISSION     CO2  TONNE_CAP         A  2002   17.7   \n",
      "1         AUS  AIREMISSION     CO2  TONNE_CAP         A  2003   17.5   \n",
      "2         AUS  AIREMISSION     CO2  TONNE_CAP         A  2004   17.9   \n",
      "3         AUS  AIREMISSION     CO2  TONNE_CAP         A  2005   17.9   \n",
      "4         AUS  AIREMISSION     CO2  TONNE_CAP         A  2006   17.8   \n",
      "...       ...          ...     ...        ...       ...   ...    ...   \n",
      "2392      ZWE  AIREMISSION     CO2  TONNE_CAP         A  2014    0.8   \n",
      "2393      ZWE  AIREMISSION     CO2  TONNE_CAP         A  2015    0.7   \n",
      "2394      ZWE  AIREMISSION     CO2  TONNE_CAP         A  2016    0.6   \n",
      "2395      ZWE  AIREMISSION     CO2  TONNE_CAP         A  2017    0.6   \n",
      "2396      ZWE  AIREMISSION     CO2  TONNE_CAP         A  2018    NaN   \n",
      "\n",
      "     Flag Codes  \n",
      "0           NaN  \n",
      "1           NaN  \n",
      "2           NaN  \n",
      "3           NaN  \n",
      "4           NaN  \n",
      "...         ...  \n",
      "2392        NaN  \n",
      "2393        NaN  \n",
      "2394        NaN  \n",
      "2395        NaN  \n",
      "2396          L  \n",
      "\n",
      "[2397 rows x 8 columns]\n"
     ]
    }
   ],
   "source": [
    "# Busqueda de valores fuera de Rango o Incorrectos.\n",
    "print(ghg)\n",
    "print(air)\n",
    "\n",
    "#Despues de ejecutar este comando, podemos observar que nuestros datos tienen unos valores nulos y/o irrelevantes."
   ]
  },
  {
   "cell_type": "code",
   "execution_count": null,
   "metadata": {},
   "outputs": [],
   "source": []
  }
 ],
 "metadata": {
  "kernelspec": {
   "display_name": "Python 3",
   "language": "python",
   "name": "python3"
  },
  "language_info": {
   "codemirror_mode": {
    "name": "ipython",
    "version": 3
   },
   "file_extension": ".py",
   "mimetype": "text/x-python",
   "name": "python",
   "nbconvert_exporter": "python",
   "pygments_lexer": "ipython3",
   "version": "3.8.5"
  }
 },
 "nbformat": 4,
 "nbformat_minor": 4
}
